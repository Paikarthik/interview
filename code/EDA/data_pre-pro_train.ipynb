{
 "cells": [
  {
   "cell_type": "markdown",
   "id": "b464fd3e-11d7-4b9e-894e-e4cfad0fba93",
   "metadata": {},
   "source": [
    "# Data-prepocessing\n",
    "- develop pipeline to read the data and transform the data \n",
    "- model training pipeline\n",
    "- model evaluation"
   ]
  },
  {
   "cell_type": "code",
   "execution_count": null,
   "id": "ffd8308e-f789-4878-a4df-02ab47c5de28",
   "metadata": {},
   "outputs": [],
   "source": []
  }
 ],
 "metadata": {
  "kernelspec": {
   "display_name": "Python 3 (ipykernel)",
   "language": "python",
   "name": "python3"
  },
  "language_info": {
   "codemirror_mode": {
    "name": "ipython",
    "version": 3
   },
   "file_extension": ".py",
   "mimetype": "text/x-python",
   "name": "python",
   "nbconvert_exporter": "python",
   "pygments_lexer": "ipython3",
   "version": "3.12.8"
  }
 },
 "nbformat": 4,
 "nbformat_minor": 5
}
