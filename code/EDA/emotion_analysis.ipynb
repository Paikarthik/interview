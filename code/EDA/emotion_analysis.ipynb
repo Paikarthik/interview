{
 "cells": [
  {
   "cell_type": "markdown",
   "id": "80c8ad42-2121-4809-94e4-694ebab00fa8",
   "metadata": {},
   "source": [
    "# EDA for sentiment classification \n",
    "\n",
    "Steps:\n",
    "- Load the data\n",
    "- check the class labes and their distribution\n",
    "- Decide on whether toover sample or under sample, if there are any imbalance"
   ]
  },
  {
   "cell_type": "code",
   "execution_count": 6,
   "id": "faad1017-b769-411c-968d-f4051a07cde1",
   "metadata": {},
   "outputs": [],
   "source": [
    "import pandas as pd "
   ]
  },
  {
   "cell_type": "code",
   "execution_count": 13,
   "id": "11fbf784-85d8-4cb9-856e-59622a05d618",
   "metadata": {},
   "outputs": [
    {
     "name": "stdout",
     "output_type": "stream",
     "text": [
      "/home/pai/Manglaore_interview/code/EDA\n"
     ]
    }
   ],
   "source": [
    "!pwd"
   ]
  },
  {
   "cell_type": "code",
   "execution_count": 14,
   "id": "a07b2912-1fd6-4012-8394-38964a5a56a2",
   "metadata": {},
   "outputs": [],
   "source": [
    "# Load the data \n",
    "\n",
    "train_data_path = \"../artifacts/processed/processed_train.csv\"\n",
    "test_data_path = \"../artifacts/processed/processed_test.csv\"\n",
    "val_data_path = \"../artifacts/processed/processed_validation.csv\"\n",
    "labels_path = \"../../emotion_dataset/label_mapping.txt\"\n"
   ]
  },
  {
   "cell_type": "code",
   "execution_count": 15,
   "id": "3eb7b77c-157e-43d1-8f7c-b69248d1ff78",
   "metadata": {},
   "outputs": [],
   "source": [
    "train_data = pd.read_csv(train_data_path)\n",
    "test_data = pd.read_csv(test_data_path)\n",
    "val_data = pd.read_csv(val_data_path)\n"
   ]
  },
  {
   "cell_type": "code",
   "execution_count": null,
   "id": "323cd573-fdaa-47af-b70b-abb2d8f2e5b2",
   "metadata": {},
   "outputs": [],
   "source": [
    "with open(labels_path, 'r') as label_file:\n",
    "    label_content = label_file.read()\n",
    "\n",
    "print(label_content)\n",
    "    "
   ]
  },
  {
   "cell_type": "code",
   "execution_count": null,
   "id": "acb033ff-3d32-4ac7-8843-753ef49eed59",
   "metadata": {},
   "outputs": [],
   "source": [
    "print(train_data.head())\n",
    "print(test_data.head())\n",
    "print(val_data.head())"
   ]
  },
  {
   "cell_type": "code",
   "execution_count": null,
   "id": "7fbe658e-0b17-421d-8e5c-e47b70e3bc92",
   "metadata": {},
   "outputs": [],
   "source": [
    "train_data.info()"
   ]
  },
  {
   "cell_type": "code",
   "execution_count": 16,
   "id": "328d4091-9426-41fc-9064-b33d2f28f12c",
   "metadata": {},
   "outputs": [
    {
     "name": "stdout",
     "output_type": "stream",
     "text": [
      "Train Data: label\n",
      "1    5362\n",
      "0    4666\n",
      "3    2666\n",
      "5    2666\n",
      "2    2666\n",
      "4    2666\n",
      "Name: count, dtype: int64\n",
      "Test Data: label\n",
      "1    695\n",
      "0    581\n",
      "4    333\n",
      "3    333\n",
      "5    333\n",
      "2    333\n",
      "Name: count, dtype: int64\n",
      "Val Data: label\n",
      "1    704\n",
      "0    550\n",
      "5    333\n",
      "4    333\n",
      "3    333\n",
      "2    333\n",
      "Name: count, dtype: int64\n"
     ]
    }
   ],
   "source": [
    "print(\"Train Data:\", train_data[\"label\"].value_counts())\n",
    "print(\"Test Data:\", test_data[\"label\"].value_counts())\n",
    "print(\"Val Data:\", val_data[\"label\"].value_counts())"
   ]
  },
  {
   "cell_type": "markdown",
   "id": "28584a1f-d143-4070-a07b-444bfab92fab",
   "metadata": {},
   "source": [
    "## Determine max number of tokens in the given row \n"
   ]
  },
  {
   "cell_type": "code",
   "execution_count": null,
   "id": "7294ea0e-d690-4dc9-8a10-cbfa76f8218d",
   "metadata": {},
   "outputs": [],
   "source": [
    "def count_max_tokens(data_frame, column_name):\n",
    "    count = data_frame[column_name].apply(lambda x: len(x.split())).max()\n",
    "    return count\n",
    "    "
   ]
  },
  {
   "cell_type": "code",
   "execution_count": null,
   "id": "0e483604-5c70-4dd4-b22c-d9b4aa9ce296",
   "metadata": {},
   "outputs": [],
   "source": [
    "train_words = count_max_tokens(train_data, \"text\")\n",
    "test_words = count_max_tokens(test_data, \"text\")\n",
    "val_words = count_max_tokens(val_data, \"text\")\n",
    "\n",
    "print(train_words)\n",
    "print(test_words)\n",
    "print(val_words)\n"
   ]
  },
  {
   "cell_type": "markdown",
   "id": "07d060ae-3dfc-4d26-bc90-b802ff9eb15a",
   "metadata": {},
   "source": [
    "# Conclusion \n",
    "- The dataset is imbalanced with some classes miss-represented\n",
    "- Token lenght: for every 75 words forms 100 tokens, 66 is the sequence lenght, "
   ]
  }
 ],
 "metadata": {
  "kernelspec": {
   "display_name": "Python 3 (ipykernel)",
   "language": "python",
   "name": "python3"
  },
  "language_info": {
   "codemirror_mode": {
    "name": "ipython",
    "version": 3
   },
   "file_extension": ".py",
   "mimetype": "text/x-python",
   "name": "python",
   "nbconvert_exporter": "python",
   "pygments_lexer": "ipython3",
   "version": "3.12.8"
  }
 },
 "nbformat": 4,
 "nbformat_minor": 5
}
